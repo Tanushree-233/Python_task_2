{
  "nbformat": 4,
  "nbformat_minor": 0,
  "metadata": {
    "colab": {
      "provenance": [],
      "authorship_tag": "ABX9TyOZmaQnPKtjiZLqUFV+XjCA",
      "include_colab_link": true
    },
    "kernelspec": {
      "name": "python3",
      "display_name": "Python 3"
    },
    "language_info": {
      "name": "python"
    }
  },
  "cells": [
    {
      "cell_type": "markdown",
      "metadata": {
        "id": "view-in-github",
        "colab_type": "text"
      },
      "source": [
        "<a href=\"https://colab.research.google.com/github/Tanushree-233/Python_task_2/blob/main/ContactBook.ipynb\" target=\"_parent\"><img src=\"https://colab.research.google.com/assets/colab-badge.svg\" alt=\"Open In Colab\"/></a>"
      ]
    },
    {
      "cell_type": "code",
      "source": [
        "import gradio as gr\n",
        "\n",
        "# In-memory contact book\n",
        "contacts = []\n",
        "\n",
        "# Add contact\n",
        "def add_contact(name, phone, email, address):\n",
        "    contacts.append({\"name\": name, \"phone\": phone, \"email\": email, \"address\": address})\n",
        "    return f\"Contact for {name} added!\"\n",
        "\n",
        "# View contacts\n",
        "def view_contacts():\n",
        "    if not contacts:\n",
        "        return \"No contacts saved.\"\n",
        "    return \"\\n\".join([f\"{i+1}. {c['name']} | {c['phone']} | {c['email']} | {c['address']}\" for i, c in enumerate(contacts)])\n",
        "\n",
        "# Search contact\n",
        "def search_contact(name):\n",
        "    for c in contacts:\n",
        "        if c[\"name\"].lower() == name.lower():\n",
        "            return f\"{c['name']} | {c['phone']} | {c['email']} | {c['address']}\"\n",
        "    return \"Contact not found.\"\n",
        "\n",
        "# Delete contact\n",
        "def delete_contact(name):\n",
        "    global contacts\n",
        "    for c in contacts:\n",
        "        if c[\"name\"].lower() == name.lower():\n",
        "            contacts = [contact for contact in contacts if contact[\"name\"].lower() != name.lower()]\n",
        "            return f\"Contact {name} deleted.\"\n",
        "    return \"Contact not found.\"\n",
        "\n",
        "# Update contact\n",
        "def update_contact(name, phone, email, address):\n",
        "    for c in contacts:\n",
        "        if c[\"name\"].lower() == name.lower():\n",
        "            if phone: c[\"phone\"] = phone\n",
        "            if email: c[\"email\"] = email\n",
        "            if address: c[\"address\"] = address\n",
        "            return f\"Contact for {name} updated!\"\n",
        "    return \"Contact not found.\"\n",
        "\n",
        "# Gradio UI\n",
        "with gr.Blocks() as app:\n",
        "    gr.Markdown(\"## 📒 Contact Book App\")\n",
        "\n",
        "    with gr.Tab(\"➕ Add Contact\"):\n",
        "        name = gr.Textbox(label=\"Name\")\n",
        "        phone = gr.Textbox(label=\"Phone\")\n",
        "        email = gr.Textbox(label=\"Email\")\n",
        "        address = gr.Textbox(label=\"Address\")\n",
        "        add_btn = gr.Button(\"Add Contact\")\n",
        "        add_output = gr.Textbox(label=\"Status\")\n",
        "        add_btn.click(add_contact, inputs=[name, phone, email, address], outputs=add_output)\n",
        "\n",
        "    with gr.Tab(\"📜 View Contacts\"):\n",
        "        view_btn = gr.Button(\"Show All Contacts\")\n",
        "        view_output = gr.Textbox(label=\"All Contacts\", lines=10)\n",
        "        view_btn.click(view_contacts, outputs=view_output)\n",
        "\n",
        "    with gr.Tab(\"🔍 Search Contact\"):\n",
        "        search_name = gr.Textbox(label=\"Enter Name to Search\")\n",
        "        search_btn = gr.Button(\"Search\")\n",
        "        search_output = gr.Textbox(label=\"Contact Info\")\n",
        "        search_btn.click(search_contact, inputs=search_name, outputs=search_output)\n",
        "\n",
        "    with gr.Tab(\"❌ Delete Contact\"):\n",
        "        del_name = gr.Textbox(label=\"Enter Name to Delete\")\n",
        "        del_btn = gr.Button(\"Delete\")\n",
        "        del_output = gr.Textbox(label=\"Result\")\n",
        "        del_btn.click(delete_contact, inputs=del_name, outputs=del_output)\n",
        "\n",
        "    with gr.Tab(\"✏️ Update Contact\"):\n",
        "        upd_name = gr.Textbox(label=\"Enter Name to Update\")\n",
        "        upd_phone = gr.Textbox(label=\"New Phone (optional)\")\n",
        "        upd_email = gr.Textbox(label=\"New Email (optional)\")\n",
        "        upd_address = gr.Textbox(label=\"New Address (optional)\")\n",
        "        upd_btn = gr.Button(\"Update Contact\")\n",
        "        upd_output = gr.Textbox(label=\"Result\")\n",
        "        upd_btn.click(update_contact, inputs=[upd_name, upd_phone, upd_email, upd_address], outputs=upd_output)\n",
        "\n",
        "app.launch(share=True)"
      ],
      "metadata": {
        "colab": {
          "base_uri": "https://localhost:8080/",
          "height": 611
        },
        "id": "tk24ltvuhrGV",
        "outputId": "d78a1d41-842c-40fc-e5aa-5abe61852fc4"
      },
      "execution_count": 20,
      "outputs": [
        {
          "output_type": "stream",
          "name": "stdout",
          "text": [
            "Colab notebook detected. To show errors in colab notebook, set debug=True in launch()\n",
            "* Running on public URL: https://473554d22f5e4900a8.gradio.live\n",
            "\n",
            "This share link expires in 1 week. For free permanent hosting and GPU upgrades, run `gradio deploy` from the terminal in the working directory to deploy to Hugging Face Spaces (https://huggingface.co/spaces)\n"
          ]
        },
        {
          "output_type": "display_data",
          "data": {
            "text/plain": [
              "<IPython.core.display.HTML object>"
            ],
            "text/html": [
              "<div><iframe src=\"https://473554d22f5e4900a8.gradio.live\" width=\"100%\" height=\"500\" allow=\"autoplay; camera; microphone; clipboard-read; clipboard-write;\" frameborder=\"0\" allowfullscreen></iframe></div>"
            ]
          },
          "metadata": {}
        },
        {
          "output_type": "execute_result",
          "data": {
            "text/plain": []
          },
          "metadata": {},
          "execution_count": 20
        }
      ]
    }
  ]
}